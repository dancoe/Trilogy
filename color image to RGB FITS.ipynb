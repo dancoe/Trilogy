{
 "cells": [
  {
   "cell_type": "markdown",
   "id": "aa304775",
   "metadata": {},
   "source": [
    "# Convert color images to RGB FITS"
   ]
  },
  {
   "cell_type": "markdown",
   "id": "58f75a09",
   "metadata": {},
   "source": [
    "0. FITS images\n",
    "1. Create color image, for example using [Trilogy](https://github.com/dancoe/trilogy)\n",
    "2. Convert to RGB FITS (this notebook)\n",
    "3. Compress using gzip (shrinks a lot!)\n",
    "4. Load into ds9 / Aladin:"
   ]
  },
  {
   "cell_type": "markdown",
   "id": "b1b73fa0",
   "metadata": {},
   "source": [
    "### Load RGB FITS image into ds9\n",
    "\n",
    "* Scale -- Min Max\n",
    "* Frame -- New Frame RGB\n",
    "* File -- Open as -- RGB Image..."
   ]
  },
  {
   "cell_type": "markdown",
   "id": "697df4af",
   "metadata": {},
   "source": [
    "### Load RGB FITS image into APT Aladin\n",
    "\n",
    "* Aladin\n",
    "* Cmd-I\n",
    "* File\n",
    "* Browse\n",
    "* RGB fits image\n",
    "* (3 planes show up in Aladin)\n",
    "* rgb\n",
    "    * red = RGB[1]\n",
    "    * green = RGB[2]\n",
    "    * blue = RGB[3]"
   ]
  },
  {
   "cell_type": "code",
   "execution_count": null,
   "id": "03450003",
   "metadata": {},
   "outputs": [],
   "source": [
    "import PIL\n",
    "from PIL import Image, ImageEnhance\n",
    "PIL.Image.MAX_IMAGE_PIXELS = 933120000  # avoid decompression bomb error when loading large images\n",
    "\n",
    "import numpy as np\n",
    "from astropy.io import fits"
   ]
  },
  {
   "cell_type": "code",
   "execution_count": null,
   "id": "5d665e82",
   "metadata": {},
   "outputs": [],
   "source": [
    "def loadrgb(infile):\n",
    "    im = Image.open(infile)\n",
    "    im = im.transpose(method=Image.Transpose.FLIP_TOP_BOTTOM)\n",
    "    rgb = np.asarray(im)  # numpy\n",
    "    print(rgb.shape)\n",
    "    rgb = np.transpose(rgb, (2,0,1))  # (ny, nx, 3) -> (3, ny, nx)\n",
    "    rgb = rgb[:3]  # in case there's an alpha channel on the end\n",
    "    rgb.flags.writeable = True  # DEFAULT IS CAN'T EDIT IT!\n",
    "    return rgb"
   ]
  },
  {
   "cell_type": "code",
   "execution_count": null,
   "id": "a9944d30",
   "metadata": {},
   "outputs": [],
   "source": [
    "def im2rgbfits(color_image_file, header_file, rgb_output_file='', overwrite=False, flip=False):\n",
    "    if rgb_output_file == '':\n",
    "        rgb_output_file = color_image_file[:-4] + '_rgb.fits'\n",
    "        \n",
    "    if os.path.exists(rgb_output_file):\n",
    "        print(rgb_output_file, 'EXISTS')\n",
    "        return\n",
    "        \n",
    "    rgb = loadrgb(color_image_file)\n",
    "    header = fits.getheader(header_file)\n",
    "    hdu = fits.PrimaryHDU(header=header)\n",
    "    hdu_list = fits.HDUList([hdu])\n",
    "    for i in range(3):\n",
    "        hdu = fits.ImageHDU(rgb[i], header=header)\n",
    "        hdu_list.append(hdu)\n",
    "        \n",
    "    hdu_list.writeto(output_file, overwrite=overwrite)"
   ]
  },
  {
   "cell_type": "code",
   "execution_count": null,
   "id": "4988c7ed",
   "metadata": {},
   "outputs": [],
   "source": [
    "color_image_file = 'whl0137.png'\n",
    "input_fits_file = '../images/grizli_v2/20mas/sunrise-grizli-v2-f200w-clear_drc_sci.fits'\n",
    "output_file = 'whl0137_rgb.fits'"
   ]
  },
  {
   "cell_type": "code",
   "execution_count": null,
   "id": "3d23422d",
   "metadata": {},
   "outputs": [],
   "source": [
    "im2rgbfits(color_image_file, input_fits_file, output_file)"
   ]
  }
 ],
 "metadata": {
  "kernelspec": {
   "display_name": "Python 3",
   "language": "python",
   "name": "python3"
  },
  "language_info": {
   "codemirror_mode": {
    "name": "ipython",
    "version": 3
   },
   "file_extension": ".py",
   "mimetype": "text/x-python",
   "name": "python",
   "nbconvert_exporter": "python",
   "pygments_lexer": "ipython3",
   "version": "3.10.4"
  }
 },
 "nbformat": 4,
 "nbformat_minor": 5
}
